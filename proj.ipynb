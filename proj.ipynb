{
 "metadata": {
  "language_info": {
   "codemirror_mode": {
    "name": "ipython",
    "version": 3
   },
   "file_extension": ".py",
   "mimetype": "text/x-python",
   "name": "python",
   "nbconvert_exporter": "python",
   "pygments_lexer": "ipython3",
   "version": "3.9.5"
  },
  "orig_nbformat": 4,
  "kernelspec": {
   "name": "python3",
   "display_name": "Python 3.9.5 64-bit ('telecom': conda)"
  },
  "interpreter": {
   "hash": "dce99bcb179d9a63244029f37856df83d8dc27529338e07d05dcd21599afee91"
  }
 },
 "nbformat": 4,
 "nbformat_minor": 2,
 "cells": [
  {
   "source": [
    "# Simple Malay Grammar\n",
    "\n",
    "Author: Benjamin TAN\n",
    "\n",
    "I will use the techniques taught in this course to implement a grammar parser of the standardized Malay language as spoken in Singapore and Malaysia. \n"
   ],
   "cell_type": "markdown",
   "metadata": {}
  },
  {
   "source": [
    "## Problem\n",
    "\n",
    "### Introduction\n",
    "\n",
    "The Malay language (*Bahasa Melayu* in Malay) is an Austronesian language officially spoken in Indonesia, Brunei, Malaysia and Singapore. In Malaysia, it is known as *Bahasa Malaysia* (Malaysian language) and in Indonesia, it is known as *Bahasa Indonesia* (Indonesian Language). It is also unofficially spoken in East Timor and some regions of Thailand. Worldwide, counting all speakers of Malay and Indonesian, the language is spoken by about 290 million speakers. [1]\n",
    "\n",
    "Malay is officially written using the Latin script, known as *Rumi* in Brunei, Malaysia and Singapore, or *Latin* in Indonesia. An Arabic script, known as *Jawi*, exists and is only officially used in Brunei. [2] As there are no syntactical differences between the two scripts, for the purpose of simplicity, this project will only be analyzing the Malay language written in using the Latin script.\n",
    "\n",
    "### Aim\n",
    "\n",
    "I will be implementing a simple grammar parser of the Malay language using symbolic NLP techniques taught in the course. \n",
    "\n",
    "As there are differences across dialects, this project will be based on the standard Malay of Malaysia and Singapore.\n"
   ],
   "cell_type": "markdown",
   "metadata": {}
  },
  {
   "source": [
    "## Relevant Studies"
   ],
   "cell_type": "markdown",
   "metadata": {}
  },
  {
   "cell_type": "code",
   "execution_count": 72,
   "metadata": {},
   "outputs": [],
   "source": [
    "from nltk import CFG, ChartParser"
   ]
  },
  {
   "cell_type": "code",
   "execution_count": 73,
   "metadata": {},
   "outputs": [
    {
     "output_type": "stream",
     "name": "stdout",
     "text": [
      "Grammar with 33 productions (start state = S)\n    S -> NP VP\n    NP -> Det N\n    NP -> NP PP\n    VP -> V\n    VP -> V NP\n    VP -> V PP\n    VP -> V NP PP\n    VP -> V PP PP\n    PP -> P NP\n    NP -> 'kirk'\n    Det -> 'the'\n    Det -> 'my'\n    Det -> 'her'\n    Det -> 'his'\n    Det -> 'a'\n    Det -> 'some'\n    N -> 'dog'\n    N -> 'daughter'\n    N -> 'son'\n    N -> 'sister'\n    N -> 'aunt'\n    N -> 'neighbour'\n    N -> 'cousin'\n    V -> 'grumbles'\n    V -> 'likes'\n    V -> 'gives'\n    V -> 'talks'\n    V -> 'annoys'\n    V -> 'hates'\n    V -> 'cries'\n    P -> 'of'\n    P -> 'to'\n    P -> 'about'\n"
     ]
    }
   ],
   "source": [
    "lab1_grammar = CFG.fromstring(\"\"\"\n",
    "# Grammar\n",
    "S -> NP VP\n",
    "NP -> Det N | NP PP\n",
    "VP -> V | V NP | V PP | V NP PP | V PP PP\n",
    "PP -> P NP\n",
    "\n",
    "# Lexicon\n",
    "NP -> 'kirk'\n",
    "Det -> 'the' | 'my' | 'her' | 'his' | 'a' | 'some'\n",
    "N -> 'dog' | 'daughter' | 'son' | 'sister' | 'aunt' | 'neighbour' | 'cousin'\n",
    "V -> 'grumbles' | 'likes' | 'gives' | 'talks' | 'annoys' | 'hates' | 'cries'\n",
    "P -> 'of' | 'to' | 'about'\n",
    "\"\"\")\n",
    "print(lab1_grammar)"
   ]
  },
  {
   "cell_type": "code",
   "execution_count": 74,
   "metadata": {},
   "outputs": [
    {
     "output_type": "stream",
     "name": "stdout",
     "text": [
      "['the', 'cousin', 'talks', 'to', 'the', 'neighbour', 'of', 'her', 'sister']\n(S\n  (NP (Det the) (N cousin))\n  (VP\n    (V talks)\n    (PP (P to) (NP (Det the) (N neighbour)))\n    (PP (P of) (NP (Det her) (N sister)))))\n(S\n  (NP (Det the) (N cousin))\n  (VP\n    (V talks)\n    (PP\n      (P to)\n      (NP\n        (NP (Det the) (N neighbour))\n        (PP (P of) (NP (Det her) (N sister)))))))\n"
     ]
    }
   ],
   "source": [
    "sentence = 'the cousin talks to the neighbour of her sister'.split()\n",
    "print(sentence)\n",
    "\n",
    "parser = ChartParser(lab1_grammar)\n",
    "out = parser.parse(sentence)\n",
    "for tree in out:\n",
    "    print(tree)"
   ]
  },
  {
   "cell_type": "code",
   "execution_count": 75,
   "metadata": {},
   "outputs": [],
   "source": [
    "def parse(grammar, string):\n",
    "    # Takes a grammar and a string and parses the string.\n",
    "    # Displays the grammar tree of the string\n",
    "    print(string)\n",
    "    sentence = string.split()\n",
    "    parser = ChartParser(grammar)\n",
    "    out = parser.parse(sentence)\n",
    "    for tree in out:\n",
    "        print(tree)"
   ]
  },
  {
   "cell_type": "code",
   "execution_count": 76,
   "metadata": {},
   "outputs": [
    {
     "output_type": "stream",
     "name": "stdout",
     "text": [
      "my dog talks\n(S (NP (Det my) (N dog)) (VP (V talks)))\n"
     ]
    }
   ],
   "source": [
    "# Example\n",
    "parse(lab1_grammar, 'my dog talks')"
   ]
  },
  {
   "source": [
    "## Claim"
   ],
   "cell_type": "markdown",
   "metadata": {}
  },
  {
   "source": [
    "### *Pola*\n",
    "\n",
    "*Pola*, in Malay, refers to the pattern of grammar in Malay sentences. Each *pola* is a formula to make a basic grammatical sentence in Malay.\n",
    "\n",
    "Example:   \n",
    "***Pola:*** actor + verb  \n",
    "**Malay Sentence:** \"Saya makan.\"  \n",
    "**Translation:** \"I eat.\"\n",
    "\n",
    "Here are some of the basic *pola* of Malay grammar:\n",
    "\n",
    "* actor + verb\n",
    "* actor + verb + complement\n",
    "* verb + complement\n",
    "\n",
    "From this, we will derive a set of basic rules of Malay grammar one *pola* at a time."
   ],
   "cell_type": "markdown",
   "metadata": {}
  },
  {
   "source": [
    "#### actor + verb\n",
    "\n",
    "We start off with a set of basic grammar:\n",
    "\n",
    "```\n",
    "S -> NP VP  \n",
    "NP -> N  \n",
    "VP -> V  \n",
    "```\n",
    "\n",
    "We then add a set of common pronouns in Malay:\n",
    "\n",
    "* *saya* - I, me (formal)\n",
    "* *aku* - I, me (informal)\n",
    "* *kita* - we (includes listener)\n",
    "* *kami* - we (excludes listener)\n",
    "* *anda* - you (formal)\n",
    "* *awak* - you (informal)\n",
    "* *dia* - he, she, him, her\n",
    "* *mereka* - they, them\n",
    "\n",
    "We also include a set of basic verbs:\n",
    "\n",
    "* *ada* - to have\n",
    "* *makan* - to eat\n",
    "* *minum* - to drink\n",
    "* *tidur* - to sleep\n",
    "* *duduk* - to sit\n",
    "* *sayang* - to love\n",
    "* *bercakap* - to talk\n",
    "* *dengar* - to listen\n",
    "* *menyanyi* - to sing"
   ],
   "cell_type": "markdown",
   "metadata": {}
  },
  {
   "cell_type": "code",
   "execution_count": 77,
   "metadata": {},
   "outputs": [
    {
     "output_type": "stream",
     "name": "stdout",
     "text": [
      "Grammar with 20 productions (start state = S)\n    S -> NP VP\n    NP -> N\n    VP -> V\n    N -> 'saya'\n    N -> 'aku'\n    N -> 'kita'\n    N -> 'kami'\n    N -> 'anda'\n    N -> 'awak'\n    N -> 'dia'\n    N -> 'mereka'\n    V -> 'ada'\n    V -> 'makan'\n    V -> 'minum'\n    V -> 'tidur'\n    V -> 'duduk'\n    V -> 'sayang'\n    V -> 'bercakap'\n    V -> 'dengar'\n    V -> 'menyanyi'\n"
     ]
    }
   ],
   "source": [
    "malay_grammar = CFG.fromstring(\"\"\"\n",
    "# Grammar\n",
    "S -> NP VP\n",
    "NP -> N\n",
    "VP -> V\n",
    "\n",
    "# Lexicon\n",
    "N -> 'saya' | 'aku' | 'kita' | 'kami' | 'anda' | 'awak' | 'dia' | 'mereka'\n",
    "V -> 'ada' | 'makan' | 'minum' | 'tidur' | 'duduk' | 'sayang' | 'bercakap' | 'dengar' | 'menyanyi'\n",
    "\"\"\")\n",
    "print(malay_grammar)"
   ]
  },
  {
   "cell_type": "code",
   "execution_count": 78,
   "metadata": {},
   "outputs": [
    {
     "output_type": "stream",
     "name": "stdout",
     "text": [
      "saya makan\n(S (NP (N saya)) (VP (V makan)))\nkita minum\n(S (NP (N kita)) (VP (V minum)))\nkami tidur\n(S (NP (N kami)) (VP (V tidur)))\nawak duduk\n(S (NP (N awak)) (VP (V duduk)))\ndia sayang\n(S (NP (N dia)) (VP (V sayang)))\nmereka bercakap\n(S (NP (N mereka)) (VP (V bercakap)))\naku dengar\n(S (NP (N aku)) (VP (V dengar)))\nanda menyanyi\n(S (NP (N anda)) (VP (V menyanyi)))\n"
     ]
    }
   ],
   "source": [
    "# I eat\n",
    "parse(malay_grammar, 'saya makan')\n",
    "\n",
    "# we drink\n",
    "parse(malay_grammar, 'kita minum')\n",
    "\n",
    "# we sleep\n",
    "parse(malay_grammar, 'kami tidur')\n",
    "\n",
    "# you sit\n",
    "parse(malay_grammar, 'awak duduk')\n",
    "\n",
    "# he loves\n",
    "parse(malay_grammar, 'dia sayang')\n",
    "\n",
    "# they talk\n",
    "parse(malay_grammar, 'mereka bercakap')\n",
    "\n",
    "# I listen\n",
    "parse(malay_grammar, 'aku dengar')\n",
    "\n",
    "# you sing\n",
    "parse(malay_grammar, 'anda menyanyi')"
   ]
  },
  {
   "source": [
    "#### actor + verb + complement\n",
    "\n",
    "We extend the grammar with:\n",
    "\n",
    "```\n",
    "VP -> VP NP\n",
    "```\n",
    "\n",
    "We will add some nouns in order to add a complement:\n",
    "\n",
    "* *nasi* - rice\n",
    "* *mee* - noodles\n",
    "* *roti* - bread\n",
    "* *air* - water"
   ],
   "cell_type": "markdown",
   "metadata": {}
  },
  {
   "cell_type": "code",
   "execution_count": 79,
   "metadata": {},
   "outputs": [
    {
     "output_type": "stream",
     "name": "stdout",
     "text": [
      "Grammar with 25 productions (start state = S)\n    S -> NP VP\n    NP -> N\n    VP -> V\n    VP -> VP NP\n    N -> 'saya'\n    N -> 'aku'\n    N -> 'kita'\n    N -> 'kami'\n    N -> 'anda'\n    N -> 'awak'\n    N -> 'dia'\n    N -> 'mereka'\n    N -> 'nasi'\n    N -> 'mee'\n    N -> 'roti'\n    N -> 'air'\n    V -> 'ada'\n    V -> 'makan'\n    V -> 'minum'\n    V -> 'tidur'\n    V -> 'duduk'\n    V -> 'sayang'\n    V -> 'bercakap'\n    V -> 'dengar'\n    V -> 'menyanyi'\n"
     ]
    }
   ],
   "source": [
    "malay_grammar = CFG.fromstring(\"\"\"\n",
    "# Grammar\n",
    "S -> NP VP\n",
    "NP -> N\n",
    "VP -> V | V NP\n",
    "\n",
    "# Lexicon\n",
    "N -> 'saya' | 'aku' | 'kita' | 'kami' | 'anda' | 'awak' | 'dia' | 'mereka' | 'nasi' | 'mee' | 'roti' | 'air'\n",
    "V -> 'ada' | 'makan' | 'minum' | 'tidur' | 'duduk' | 'sayang' | 'bercakap' | 'dengar' | 'menyanyi'\n",
    "\"\"\")\n",
    "print(malay_grammar)"
   ]
  },
  {
   "cell_type": "code",
   "execution_count": 80,
   "metadata": {},
   "outputs": [
    {
     "output_type": "stream",
     "name": "stdout",
     "text": [
      "saya makan nasi\n(S (NP (N saya)) (VP (VP (V makan)) (NP (N nasi))))\nkita minum air\n(S (NP (N kita)) (VP (VP (V minum)) (NP (N air))))\nkami makan roti\n(S (NP (N kami)) (VP (VP (V makan)) (NP (N roti))))\nawak makan mee\n(S (NP (N awak)) (VP (VP (V makan)) (NP (N mee))))\ndia sayang saya\n(S (NP (N dia)) (VP (VP (V sayang)) (NP (N saya))))\nsaya sayang awak\n(S (NP (N saya)) (VP (VP (V sayang)) (NP (N awak))))\n"
     ]
    }
   ],
   "source": [
    "# I eat rice\n",
    "parse(malay_grammar, 'saya makan nasi')\n",
    "\n",
    "# we drink water\n",
    "parse(malay_grammar, 'kita minum air')\n",
    "\n",
    "# we eat bread\n",
    "parse(malay_grammar, 'kami makan roti')\n",
    "\n",
    "# you eat noodles\n",
    "parse(malay_grammar, 'awak makan mee')\n",
    "\n",
    "# he loves me\n",
    "parse(malay_grammar, 'dia sayang saya')\n",
    "\n",
    "# I love you\n",
    "parse(malay_grammar, 'saya sayang awak')"
   ]
  },
  {
   "source": [
    "#### verb + complement\n",
    "\n",
    "It is possible to form a sentence without the actor.\n",
    "\n",
    "We add the following rule:\n",
    "\n",
    "```\n",
    "S -> VP\n",
    "```\n",
    "\n",
    "We also add some more verbs to use this rule:\n",
    "\n",
    "* *dengarkan* - to listen (to someone)"
   ],
   "cell_type": "markdown",
   "metadata": {}
  },
  {
   "cell_type": "code",
   "execution_count": 81,
   "metadata": {},
   "outputs": [
    {
     "output_type": "stream",
     "name": "stdout",
     "text": [
      "Grammar with 27 productions (start state = S)\n    S -> NP VP\n    S -> VP\n    NP -> N\n    VP -> V\n    VP -> VP NP\n    N -> 'saya'\n    N -> 'aku'\n    N -> 'kita'\n    N -> 'kami'\n    N -> 'anda'\n    N -> 'awak'\n    N -> 'dia'\n    N -> 'mereka'\n    N -> 'nasi'\n    N -> 'mee'\n    N -> 'roti'\n    N -> 'air'\n    V -> 'ada'\n    V -> 'makan'\n    V -> 'minum'\n    V -> 'tidur'\n    V -> 'duduk'\n    V -> 'sayang'\n    V -> 'bercakap'\n    V -> 'dengar'\n    V -> 'menyanyi'\n    V -> 'dengarkan'\n"
     ]
    }
   ],
   "source": [
    "malay_grammar = CFG.fromstring(\"\"\"\n",
    "# Grammar\n",
    "S -> NP VP | VP\n",
    "NP -> N\n",
    "VP -> V | V NP\n",
    "\n",
    "# Lexicon\n",
    "N -> 'saya' | 'aku' | 'kita' | 'kami' | 'anda' | 'awak' | 'dia' | 'mereka' | 'nasi' | 'mee' | 'roti' | 'air'\n",
    "V -> 'ada' | 'makan' | 'minum' | 'tidur' | 'duduk' | 'sayang' | 'bercakap' | 'dengar' | 'menyanyi' | 'dengarkan'\n",
    "\"\"\")\n",
    "print(malay_grammar)"
   ]
  },
  {
   "cell_type": "code",
   "execution_count": 82,
   "metadata": {},
   "outputs": [
    {
     "output_type": "stream",
     "name": "stdout",
     "text": [
      "makan nasi\n(S (VP (VP (V makan)) (NP (N nasi))))\nminum air\n(S (VP (VP (V minum)) (NP (N air))))\ndengarkan saya\n(S (VP (VP (V dengarkan)) (NP (N saya))))\n"
     ]
    }
   ],
   "source": [
    "# eat rice\n",
    "parse(malay_grammar, 'makan nasi')\n",
    "\n",
    "# drink water\n",
    "parse(malay_grammar, 'minum air')\n",
    "\n",
    "# listen to me\n",
    "parse(malay_grammar, 'dengarkan saya')"
   ]
  },
  {
   "source": [
    "#### 'this is...'\n",
    "\n",
    "The form 'this is...' is expressed by placing *itu* after the noun phrase. Hence, *itu* acts as the verb 'to be' to express 'this is...'.\n",
    "\n",
    "Example:\n",
    "\n",
    "* *nasi itu* - this is rice\n",
    "* *air itu* - this is water\n"
   ],
   "cell_type": "markdown",
   "metadata": {}
  },
  {
   "cell_type": "code",
   "execution_count": 83,
   "metadata": {},
   "outputs": [
    {
     "output_type": "stream",
     "name": "stdout",
     "text": [
      "Grammar with 28 productions (start state = S)\n    S -> NP VP\n    S -> VP\n    NP -> N\n    VP -> V\n    VP -> VP NP\n    N -> 'saya'\n    N -> 'aku'\n    N -> 'kita'\n    N -> 'kami'\n    N -> 'anda'\n    N -> 'awak'\n    N -> 'dia'\n    N -> 'mereka'\n    N -> 'nasi'\n    N -> 'mee'\n    N -> 'roti'\n    N -> 'air'\n    V -> 'itu'\n    V -> 'ada'\n    V -> 'makan'\n    V -> 'minum'\n    V -> 'tidur'\n    V -> 'duduk'\n    V -> 'sayang'\n    V -> 'bercakap'\n    V -> 'dengar'\n    V -> 'menyanyi'\n    V -> 'dengarkan'\n"
     ]
    }
   ],
   "source": [
    "malay_grammar = CFG.fromstring(\"\"\"\n",
    "# Grammar\n",
    "S -> NP VP | VP\n",
    "NP -> N\n",
    "VP -> V | V NP\n",
    "\n",
    "# Lexicon\n",
    "N -> 'saya' | 'aku' | 'kita' | 'kami' | 'anda' | 'awak' | 'dia' | 'mereka' | 'nasi' | 'mee' | 'roti' | 'air'\n",
    "V -> 'itu' | 'ada' | 'makan' | 'minum' | 'tidur' | 'duduk' | 'sayang' | 'bercakap' | 'dengar' | 'menyanyi' | 'dengarkan'\n",
    "\"\"\")\n",
    "print(malay_grammar)"
   ]
  },
  {
   "cell_type": "code",
   "execution_count": 84,
   "metadata": {},
   "outputs": [
    {
     "output_type": "stream",
     "name": "stdout",
     "text": [
      "nasi itu\n(S (NP (N nasi)) (VP (V itu)))\nair itu\n(S (NP (N air)) (VP (V itu)))\n"
     ]
    }
   ],
   "source": [
    "# this is rice\n",
    "parse(malay_grammar, 'nasi itu')\n",
    "\n",
    "# this is water\n",
    "parse(malay_grammar, 'air itu')"
   ]
  },
  {
   "source": [
    "### Nouns\n",
    "\n",
    "We can explore different constructions of nouns in Malay."
   ],
   "cell_type": "markdown",
   "metadata": {}
  },
  {
   "source": [
    "#### Adjectives\n",
    "\n",
    "https://ia802702.us.archive.org/10/items/practicalmalaygr00sheliala/practicalmalaygr00sheliala.pdf\n",
    "\n",
    "In Malay, adjectives go after the noun.\n",
    "\n",
    "* *rumah* - house\n",
    "* *kuda* - horse\n",
    "* *orang* - man\n",
    "\n",
    "\n",
    "* *besar* - big\n",
    "* *kuat* - strong\n",
    "* *baik* - good\n",
    "\n",
    "Examples:\n",
    "\n",
    "* *rumah besar* - a big house\n",
    "* *kuda kuat besar* - a big strong horse\n",
    "* *orang baik* - a good man\n",
    "\n",
    "To add these rules, we will add the following grammar rules:\n",
    "\n",
    "```\n",
    "NP -> NP AP  \n",
    "AP -> AP A  \n",
    "AP -> A  \n",
    "```"
   ],
   "cell_type": "markdown",
   "metadata": {}
  },
  {
   "cell_type": "code",
   "execution_count": 85,
   "metadata": {},
   "outputs": [
    {
     "output_type": "stream",
     "name": "stdout",
     "text": [
      "Grammar with 37 productions (start state = S)\n    S -> VP\n    S -> NP VP\n    NP -> NP AP\n    NP -> N\n    VP -> V\n    VP -> VP NP\n    AP -> AP A\n    AP -> A\n    N -> 'saya'\n    N -> 'aku'\n    N -> 'kita'\n    N -> 'kami'\n    N -> 'anda'\n    N -> 'awak'\n    N -> 'dia'\n    N -> 'mereka'\n    N -> 'nasi'\n    N -> 'mee'\n    N -> 'roti'\n    N -> 'air'\n    N -> 'rumah'\n    N -> 'kuda'\n    N -> 'orang'\n    V -> 'itu'\n    V -> 'ada'\n    V -> 'makan'\n    V -> 'minum'\n    V -> 'tidur'\n    V -> 'duduk'\n    V -> 'sayang'\n    V -> 'bercakap'\n    V -> 'dengar'\n    V -> 'menyanyi'\n    V -> 'dengarkan'\n    A -> 'besar'\n    A -> 'kuat'\n    A -> 'baik'\n"
     ]
    }
   ],
   "source": [
    "malay_grammar = CFG.fromstring(\"\"\"\n",
    "# Grammar\n",
    "S -> VP | NP VP\n",
    "NP -> NP AP | N\n",
    "VP -> V | V NP\n",
    "AP -> AP A | A\n",
    "\n",
    "# Lexicon\n",
    "N -> 'saya' | 'aku' | 'kita' | 'kami' | 'anda' | 'awak' | 'dia' | 'mereka' | 'nasi' | 'mee' | 'roti' | 'air' | 'rumah' | 'kuda' | 'orang'\n",
    "V -> 'itu' | 'ada' | 'makan' | 'minum' | 'tidur' | 'duduk' | 'sayang' | 'bercakap' | 'dengar' | 'menyanyi' | 'dengarkan'\n",
    "A -> 'besar' | 'kuat' | 'baik'\n",
    "\"\"\")\n",
    "print(malay_grammar)"
   ]
  },
  {
   "cell_type": "code",
   "execution_count": 86,
   "metadata": {},
   "outputs": [
    {
     "output_type": "stream",
     "name": "stdout",
     "text": [
      "saya ada rumah besar\n",
      "(S\n",
      "  (NP (N saya))\n",
      "  (VP (VP (V ada)) (NP (NP (N rumah)) (AP (A besar)))))\n",
      "anda ada kuda kuat besar\n",
      "(S\n",
      "  (NP (N anda))\n",
      "  (VP (VP (V ada)) (NP (NP (N kuda)) (AP (AP (A kuat)) (A besar)))))\n",
      "(S\n",
      "  (NP (N anda))\n",
      "  (VP\n",
      "    (VP (V ada))\n",
      "    (NP (NP (NP (N kuda)) (AP (A kuat))) (AP (A besar)))))\n",
      "dia ada orang baik\n",
      "(S (NP (N dia)) (VP (VP (V ada)) (NP (NP (N orang)) (AP (A baik)))))\n"
     ]
    }
   ],
   "source": [
    "# I have a big house\n",
    "parse(malay_grammar, 'saya ada rumah besar')\n",
    "\n",
    "# You have a big strong horse\n",
    "parse(malay_grammar, 'anda ada kuda kuat besar')\n",
    "\n",
    "# she has a good man\n",
    "parse(malay_grammar, 'dia ada orang baik')"
   ]
  },
  {
   "source": [
    "#### Quantity\n",
    "\n",
    "http://mylanguages.org/malay_adjectives.php\n",
    "\n",
    "Words that express quantity are placed before the noun.\n",
    "\n",
    "* *beberapa* - few, some\n",
    "* *sedikit* - little\n",
    "* *banyak* - many, much\n",
    "* *bahagian* - part\n",
    "* *semua* - whole, all\n",
    "\n",
    "Examples:\n",
    "\n",
    "* *beberapa epal* - some apples\n",
    "* *semua orang* - everybody\n",
    "\n",
    "We add the following grammar rules:\n",
    "```\n",
    "NP -> Q NP  \n",
    "```"
   ],
   "cell_type": "markdown",
   "metadata": {}
  },
  {
   "cell_type": "code",
   "execution_count": 87,
   "metadata": {},
   "outputs": [
    {
     "output_type": "stream",
     "name": "stdout",
     "text": [
      "Grammar with 44 productions (start state = S)\n    S -> VP\n    S -> NP VP\n    NP -> NP AP\n    NP -> Q NP\n    NP -> N\n    VP -> VP NP\n    VP -> V\n    AP -> AP A\n    AP -> A\n    N -> 'saya'\n    N -> 'aku'\n    N -> 'kita'\n    N -> 'kami'\n    N -> 'anda'\n    N -> 'awak'\n    N -> 'dia'\n    N -> 'mereka'\n    N -> 'nasi'\n    N -> 'mee'\n    N -> 'roti'\n    N -> 'air'\n    N -> 'rumah'\n    N -> 'kuda'\n    N -> 'orang'\n    N -> 'epal'\n    V -> 'itu'\n    V -> 'ada'\n    V -> 'makan'\n    V -> 'minum'\n    V -> 'tidur'\n    V -> 'duduk'\n    V -> 'sayang'\n    V -> 'bercakap'\n    V -> 'dengar'\n    V -> 'menyanyi'\n    V -> 'dengarkan'\n    A -> 'besar'\n    A -> 'kuat'\n    A -> 'baik'\n    Q -> 'beberapa'\n    Q -> 'sedikit'\n    Q -> 'banyak'\n    Q -> 'bahagian'\n    Q -> 'semua'\n"
     ]
    }
   ],
   "source": [
    "malay_grammar = CFG.fromstring(\"\"\"\n",
    "# Grammar\n",
    "S -> VP | NP VP\n",
    "NP -> NP AP | Q NP | N\n",
    "VP -> V NP | V\n",
    "AP -> AP A | A\n",
    "\n",
    "# Lexicon\n",
    "N -> 'saya' | 'aku' | 'kita' | 'kami' | 'anda' | 'awak' | 'dia' | 'mereka' | 'nasi' | 'mee' | 'roti' | 'air' | 'rumah' | 'kuda' | 'orang' | 'epal'\n",
    "V -> 'itu' | 'ada' | 'makan' | 'minum' | 'tidur' | 'duduk' | 'sayang' | 'bercakap' | 'dengar' | 'menyanyi' | 'dengarkan'\n",
    "A -> 'besar' | 'kuat' | 'baik'\n",
    "Q -> 'beberapa' | 'sedikit' | 'banyak' | 'bahagian' | 'semua'\n",
    "\"\"\")\n",
    "print(malay_grammar)"
   ]
  },
  {
   "cell_type": "code",
   "execution_count": 88,
   "metadata": {},
   "outputs": [
    {
     "output_type": "stream",
     "name": "stdout",
     "text": [
      "semua orang sayang saya\n(S (NP (Q semua) (NP (N orang))) (VP (VP (V sayang)) (NP (N saya))))\nmereka makan beberapa epal\n(S\n  (NP (N mereka))\n  (VP (VP (V makan)) (NP (Q beberapa) (NP (N epal)))))\n"
     ]
    }
   ],
   "source": [
    "# everybody loves me\n",
    "parse(malay_grammar, 'semua orang sayang saya')\n",
    "\n",
    "# they eat some apples\n",
    "parse(malay_grammar, 'mereka makan beberapa epal')"
   ]
  },
  {
   "source": [
    "#### Possession\n",
    "\n",
    "Possession is expressed by placing the pronoun after the noun.\n",
    "\n",
    "* *rumah saya* - my house  \n",
    "Literal: house + I\n",
    "* *air kita* - our water  \n",
    "Literal: water + we\n",
    "\n",
    "This can be expressed by letting pronouns be adjectives.\n",
    "\n",
    "```\n",
    "AP -> PN\n",
    "NP -> PN\n",
    "```\n"
   ],
   "cell_type": "markdown",
   "metadata": {}
  },
  {
   "cell_type": "code",
   "execution_count": 89,
   "metadata": {},
   "outputs": [
    {
     "output_type": "stream",
     "name": "stdout",
     "text": [
      "Grammar with 46 productions (start state = S)\n    S -> VP\n    S -> NP VP\n    NP -> NP AP\n    NP -> Q NP\n    NP -> PN\n    NP -> N\n    VP -> VP NP\n    VP -> V\n    AP -> AP A\n    AP -> PN\n    AP -> A\n    PN -> 'saya'\n    PN -> 'aku'\n    PN -> 'kita'\n    PN -> 'kami'\n    PN -> 'anda'\n    PN -> 'awak'\n    PN -> 'dia'\n    PN -> 'mereka'\n    N -> 'nasi'\n    N -> 'mee'\n    N -> 'roti'\n    N -> 'air'\n    N -> 'rumah'\n    N -> 'kuda'\n    N -> 'orang'\n    N -> 'epal'\n    V -> 'itu'\n    V -> 'ada'\n    V -> 'makan'\n    V -> 'minum'\n    V -> 'tidur'\n    V -> 'duduk'\n    V -> 'sayang'\n    V -> 'bercakap'\n    V -> 'dengar'\n    V -> 'menyanyi'\n    V -> 'dengarkan'\n    A -> 'besar'\n    A -> 'kuat'\n    A -> 'baik'\n    Q -> 'beberapa'\n    Q -> 'sedikit'\n    Q -> 'banyak'\n    Q -> 'bahagian'\n    Q -> 'semua'\n"
     ]
    }
   ],
   "source": [
    "malay_grammar = CFG.fromstring(\"\"\"\n",
    "# Grammar\n",
    "S -> VP | NP VP\n",
    "NP -> NP AP | Q NP | PN | N\n",
    "VP -> V NP | V\n",
    "AP -> AP A | PN | A\n",
    "\n",
    "# Lexicon\n",
    "PN -> 'saya' | 'aku' | 'kita' | 'kami' | 'anda' | 'awak' | 'dia' | 'mereka'\n",
    "N -> 'nasi' | 'mee' | 'roti' | 'air' | 'rumah' | 'kuda' | 'orang' | 'epal'\n",
    "V -> 'itu' | 'ada' | 'makan' | 'minum' | 'tidur' | 'duduk' | 'sayang' | 'bercakap' | 'dengar' | 'menyanyi' | 'dengarkan'\n",
    "A -> 'besar' | 'kuat' | 'baik'\n",
    "Q -> 'beberapa' | 'sedikit' | 'banyak' | 'bahagian' | 'semua'\n",
    "\"\"\")\n",
    "print(malay_grammar)"
   ]
  },
  {
   "cell_type": "code",
   "execution_count": 91,
   "metadata": {},
   "outputs": [
    {
     "output_type": "stream",
     "name": "stdout",
     "text": [
      "rumah saya itu\n(S (NP (NP (N rumah)) (AP (PN saya))) (VP (V itu)))\nair kita itu\n(S (NP (NP (N air)) (AP (PN kita))) (VP (V itu)))\n"
     ]
    }
   ],
   "source": [
    "# this is my big house\n",
    "parse(malay_grammar, 'rumah besar saya itu')\n",
    "\n",
    "# this is our few water\n",
    "parse(malay_grammar, 'sedikit air kita itu')"
   ]
  },
  {
   "source": [
    "### Verb Negation\n",
    "\n",
    "* *tidak*, *tak* - 'not', used to negate verbs and adjectives  \n",
    "*Saya tidak makan* - I do not eat  \n",
    "Literal: I + not + eat\n",
    "  \n",
    "* *bukan* - 'not be', used to negate nouns  \n",
    "*Anda bukan kawan saya* - You are not my friend  \n",
    "Literal: you + not be + friend + I\n",
    "\n",
    "* *jangan* - 'do not', used as negative imperatives  \n",
    "*jangan makan roti* - Do not eat bread  \n",
    "Literal: do not + eat + bread\n",
    "\n",
    "We had the following rules to support negation.\n",
    "\n",
    "```\n",
    "VP -> Neg VP\n",
    "Neg -> 'tidak' | 'tak'\n",
    "V -> 'bukan' | 'jangan'\n",
    "```"
   ],
   "cell_type": "markdown",
   "metadata": {}
  },
  {
   "cell_type": "code",
   "execution_count": 96,
   "metadata": {},
   "outputs": [
    {
     "output_type": "stream",
     "name": "stdout",
     "text": [
      "Grammar with 52 productions (start state = S)\n    S -> VP\n    S -> NP VP\n    NP -> NP AP\n    NP -> Q NP\n    NP -> PN\n    NP -> N\n    VP -> Neg VP\n    VP -> VP NP\n    VP -> V\n    AP -> AP A\n    AP -> PN\n    AP -> A\n    PN -> 'saya'\n    PN -> 'aku'\n    PN -> 'kita'\n    PN -> 'kami'\n    PN -> 'anda'\n    PN -> 'awak'\n    PN -> 'dia'\n    PN -> 'mereka'\n    N -> 'nasi'\n    N -> 'mee'\n    N -> 'roti'\n    N -> 'air'\n    N -> 'rumah'\n    N -> 'kuda'\n    N -> 'orang'\n    N -> 'epal'\n    N -> 'kawan'\n    V -> 'itu'\n    V -> 'ada'\n    V -> 'makan'\n    V -> 'minum'\n    V -> 'tidur'\n    V -> 'duduk'\n    V -> 'sayang'\n    V -> 'bercakap'\n    V -> 'dengar'\n    V -> 'menyanyi'\n    V -> 'dengarkan'\n    V -> 'bukan'\n    V -> 'jangan'\n    A -> 'besar'\n    A -> 'kuat'\n    A -> 'baik'\n    Q -> 'beberapa'\n    Q -> 'sedikit'\n    Q -> 'banyak'\n    Q -> 'bahagian'\n    Q -> 'semua'\n    Neg -> 'tidak'\n    Neg -> 'tak'\n"
     ]
    }
   ],
   "source": [
    "malay_grammar = CFG.fromstring(\"\"\"\n",
    "# Grammar\n",
    "S -> VP | NP VP\n",
    "NP -> NP AP | Q NP | PN | N\n",
    "VP -> Neg VP | V NP | V\n",
    "AP -> AP A | PN | A\n",
    "\n",
    "# Lexicon\n",
    "PN -> 'saya' | 'aku' | 'kita' | 'kami' | 'anda' | 'awak' | 'dia' | 'mereka'\n",
    "N -> 'nasi' | 'mee' | 'roti' | 'air' | 'rumah' | 'kuda' | 'orang' | 'epal' | 'kawan'\n",
    "V -> 'itu' | 'ada' | 'makan' | 'minum' | 'tidur' | 'duduk' | 'sayang' | 'bercakap' | 'dengar' | 'menyanyi' | 'dengarkan' | 'bukan' | 'jangan'\n",
    "A -> 'besar' | 'kuat' | 'baik'\n",
    "Q -> 'beberapa' | 'sedikit' | 'banyak' | 'bahagian' | 'semua'\n",
    "Neg -> 'tidak' | 'tak'\n",
    "\"\"\")\n",
    "print(malay_grammar)"
   ]
  },
  {
   "cell_type": "code",
   "execution_count": 97,
   "metadata": {},
   "outputs": [
    {
     "output_type": "stream",
     "name": "stdout",
     "text": [
      "saya tidak makan\n(S (NP (PN saya)) (VP (Neg tidak) (VP (V makan))))\nanda bukan kawan saya\n(S\n  (NP (PN anda))\n  (VP (VP (V bukan)) (NP (NP (N kawan)) (AP (PN saya)))))\n(S\n  (NP (PN anda))\n  (VP (VP (VP (V bukan)) (NP (N kawan))) (NP (PN saya))))\njangan makan roti\n"
     ]
    }
   ],
   "source": [
    "# I do not eat\n",
    "parse(malay_grammar, 'saya tidak makan')\n",
    "\n",
    "# You are not my friend\n",
    "parse(malay_grammar, 'anda bukan kawan saya')\n",
    "\n",
    "# Do not eat bread\n",
    "parse(malay_grammar, 'jangan makan roti')"
   ]
  },
  {
   "source": [
    "### Conjunctions\n",
    "\n",
    "We introduce basic conjunctions.\n",
    "\n",
    "* *dan* - and\n",
    "* *atau* - or\n",
    "\n",
    "We add the following rules.\n",
    "\n",
    "```\n",
    "NP -> NP C NP\n",
    "VP -> VP C VP\n",
    "C -> 'dan' | 'atau'\n",
    "```\n",
    "\n"
   ],
   "cell_type": "markdown",
   "metadata": {}
  },
  {
   "cell_type": "code",
   "execution_count": 98,
   "metadata": {},
   "outputs": [
    {
     "output_type": "stream",
     "name": "stdout",
     "text": [
      "Grammar with 56 productions (start state = S)\n    S -> VP\n    S -> NP VP\n    NP -> NP AP\n    NP -> Q NP\n    NP -> PN\n    NP -> N\n    NP -> NP C NP\n    VP -> Neg VP\n    VP -> VP NP\n    VP -> V\n    VP -> VP C VP\n    AP -> AP A\n    AP -> PN\n    AP -> A\n    PN -> 'saya'\n    PN -> 'aku'\n    PN -> 'kita'\n    PN -> 'kami'\n    PN -> 'anda'\n    PN -> 'awak'\n    PN -> 'dia'\n    PN -> 'mereka'\n    N -> 'nasi'\n    N -> 'mee'\n    N -> 'roti'\n    N -> 'air'\n    N -> 'rumah'\n    N -> 'kuda'\n    N -> 'orang'\n    N -> 'epal'\n    N -> 'kawan'\n    V -> 'itu'\n    V -> 'ada'\n    V -> 'makan'\n    V -> 'minum'\n    V -> 'tidur'\n    V -> 'duduk'\n    V -> 'sayang'\n    V -> 'bercakap'\n    V -> 'dengar'\n    V -> 'menyanyi'\n    V -> 'dengarkan'\n    V -> 'bukan'\n    V -> 'jangan'\n    A -> 'besar'\n    A -> 'kuat'\n    A -> 'baik'\n    Q -> 'beberapa'\n    Q -> 'sedikit'\n    Q -> 'banyak'\n    Q -> 'bahagian'\n    Q -> 'semua'\n    Neg -> 'tidak'\n    Neg -> 'tak'\n    C -> 'dan'\n    C -> 'atau'\n"
     ]
    }
   ],
   "source": [
    "malay_grammar = CFG.fromstring(\"\"\"\n",
    "# Grammar\n",
    "S -> VP | NP VP\n",
    "NP -> NP AP | Q NP | PN | N | NP C NP\n",
    "VP -> Neg VP | V NP | V | VP C VP\n",
    "AP -> AP A | PN | A\n",
    "\n",
    "# Lexicon\n",
    "PN -> 'saya' | 'aku' | 'kita' | 'kami' | 'anda' | 'awak' | 'dia' | 'mereka'\n",
    "N -> 'nasi' | 'mee' | 'roti' | 'air' | 'rumah' | 'kuda' | 'orang' | 'epal' | 'kawan'\n",
    "V -> 'itu' | 'ada' | 'makan' | 'minum' | 'tidur' | 'duduk' | 'sayang' | 'bercakap' | 'dengar' | 'menyanyi' | 'dengarkan' | 'bukan' | 'jangan'\n",
    "A -> 'besar' | 'kuat' | 'baik'\n",
    "Q -> 'beberapa' | 'sedikit' | 'banyak' | 'bahagian' | 'semua'\n",
    "Neg -> 'tidak' | 'tak'\n",
    "C -> 'dan' | 'atau'\n",
    "\"\"\")\n",
    "print(malay_grammar)"
   ]
  },
  {
   "cell_type": "code",
   "execution_count": 99,
   "metadata": {},
   "outputs": [
    {
     "output_type": "stream",
     "name": "stdout",
     "text": [
      "saya makan nasi dan mee\n(S\n  (NP (PN saya))\n  (VP (VP (V makan)) (NP (NP (N nasi)) (C dan) (NP (N mee)))))\nmereka ada kuda atau rumah\n(S\n  (NP (PN mereka))\n  (VP (VP (V ada)) (NP (NP (N kuda)) (C atau) (NP (N rumah)))))\n"
     ]
    }
   ],
   "source": [
    "# I eat rice and noodles\n",
    "parse(malay_grammar, 'saya makan nasi dan mee')\n",
    "\n",
    "# They have horses or houses\n",
    "parse(malay_grammar, 'mereka ada kuda atau rumah')"
   ]
  },
  {
   "source": [
    "### Prepositions\n",
    "\n",
    "http://mylanguages.org/malay_prepositions.php\n",
    "\n",
    "Some basic prepositions are as follows:\n",
    "\n",
    "* *tentang* - about\n",
    "* *di* - at\n",
    "* *untuk* - for\n",
    "* *dari* - from, of\n",
    "* *ke* - to\n",
    "\n",
    "To support prepositions, we add the following rules:\n",
    "\n",
    "```\n",
    "NP -> NP PP\n",
    "VP -> V PP | V NP PP | V PP PP\n",
    "PP -> P NP\n",
    "```\n"
   ],
   "cell_type": "markdown",
   "metadata": {}
  },
  {
   "cell_type": "code",
   "execution_count": 100,
   "metadata": {},
   "outputs": [
    {
     "output_type": "stream",
     "name": "stdout",
     "text": [
      "Grammar with 66 productions (start state = S)\n    S -> VP\n    S -> NP VP\n    NP -> NP AP\n    NP -> Q NP\n    NP -> PN\n    NP -> N\n    NP -> NP C NP\n    NP -> NP PP\n    VP -> Neg VP\n    VP -> V NP\n    VP -> V\n    VP -> VP C VP\n    VP -> V PP\n    VP -> V NP PP\n    VP -> V PP PP\n    AP -> AP A\n    AP -> PN\n    AP -> A\n    PP -> P NP\n    PN -> 'saya'\n    PN -> 'aku'\n    PN -> 'kita'\n    PN -> 'kami'\n    PN -> 'anda'\n    PN -> 'awak'\n    PN -> 'dia'\n    PN -> 'mereka'\n    N -> 'nasi'\n    N -> 'mee'\n    N -> 'roti'\n    N -> 'air'\n    N -> 'rumah'\n    N -> 'kuda'\n    N -> 'orang'\n    N -> 'epal'\n    N -> 'kawan'\n    V -> 'itu'\n    V -> 'ada'\n    V -> 'makan'\n    V -> 'minum'\n    V -> 'tidur'\n    V -> 'duduk'\n    V -> 'sayang'\n    V -> 'bercakap'\n    V -> 'dengar'\n    V -> 'menyanyi'\n    V -> 'dengarkan'\n    V -> 'bukan'\n    V -> 'jangan'\n    A -> 'besar'\n    A -> 'kuat'\n    A -> 'baik'\n    Q -> 'beberapa'\n    Q -> 'sedikit'\n    Q -> 'banyak'\n    Q -> 'bahagian'\n    Q -> 'semua'\n    Neg -> 'tidak'\n    Neg -> 'tak'\n    C -> 'dan'\n    C -> 'atau'\n    P -> 'tentang'\n    P -> 'di'\n    P -> 'untuk'\n    P -> 'dari'\n    P -> 'ke'\n"
     ]
    }
   ],
   "source": [
    "malay_grammar = CFG.fromstring(\"\"\"\n",
    "# Grammar\n",
    "S -> VP | NP VP\n",
    "NP -> NP AP | Q NP | PN | N | NP C NP | NP PP\n",
    "VP -> Neg VP | V NP | V | VP C VP | V PP | V NP PP | V PP PP\n",
    "AP -> AP A | PN | A\n",
    "PP -> P NP\n",
    "\n",
    "# Lexicon\n",
    "PN -> 'saya' | 'aku' | 'kita' | 'kami' | 'anda' | 'awak' | 'dia' | 'mereka'\n",
    "N -> 'nasi' | 'mee' | 'roti' | 'air' | 'rumah' | 'kuda' | 'orang' | 'epal' | 'kawan'\n",
    "V -> 'itu' | 'ada' | 'makan' | 'minum' | 'tidur' | 'duduk' | 'sayang' | 'bercakap' | 'dengar' | 'menyanyi' | 'dengarkan' | 'bukan' | 'jangan'\n",
    "A -> 'besar' | 'kuat' | 'baik'\n",
    "Q -> 'beberapa' | 'sedikit' | 'banyak' | 'bahagian' | 'semua'\n",
    "Neg -> 'tidak' | 'tak'\n",
    "C -> 'dan' | 'atau'\n",
    "P -> 'tentang' | 'di' | 'untuk' | 'dari' | 'ke'\n",
    "\"\"\")\n",
    "print(malay_grammar)"
   ]
  },
  {
   "cell_type": "code",
   "execution_count": 105,
   "metadata": {},
   "outputs": [
    {
     "output_type": "stream",
     "name": "stdout",
     "text": [
      "awak bercakap tentang dia\n(S (NP (PN awak)) (VP (V bercakap) (PP (P tentang) (NP (PN dia)))))\nkuda itu untuk kawan saya\n(S\n  (NP (N kuda))\n  (VP (V itu) (PP (P untuk) (NP (NP (N kawan)) (AP (PN saya))))))\n"
     ]
    }
   ],
   "source": [
    "# You talk about him\n",
    "parse(malay_grammar, 'awak bercakap tentang dia')\n",
    "\n",
    "# The horse is for my friend\n",
    "parse(malay_grammar, 'kuda itu untuk kawan saya')"
   ]
  },
  {
   "source": [
    "## Evidence"
   ],
   "cell_type": "markdown",
   "metadata": {}
  },
  {
   "cell_type": "code",
   "execution_count": null,
   "metadata": {},
   "outputs": [],
   "source": []
  },
  {
   "source": [
    "## Discussion"
   ],
   "cell_type": "markdown",
   "metadata": {}
  },
  {
   "source": [
    "## Bibliography\n",
    "\n",
    "1. Wardhana, Dian Eka Chandra (2021). [\"Indonesian as the Language of ASEAN During the New Life Behavior Change 2021\"](http://ejournal.karinosseff.org/index.php/jswse/article/view/114). Journal of Social Work and Science Education. 1 (3): 266–280. Retrieved \n",
    "\n",
    "2. Pusat Rujukan Persuratan Melayu (2014), [Ejaan Rumi Baharu Bahasa Malaysia](https://prpm.dbp.gov.my/cari1?keyword=ejaan%20rumi%20baharu), retrieved 2014-10-04. "
   ],
   "cell_type": "markdown",
   "metadata": {}
  }
 ]
}