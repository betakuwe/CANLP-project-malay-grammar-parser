{
 "metadata": {
  "language_info": {
   "codemirror_mode": {
    "name": "ipython",
    "version": 3
   },
   "file_extension": ".py",
   "mimetype": "text/x-python",
   "name": "python",
   "nbconvert_exporter": "python",
   "pygments_lexer": "ipython3",
   "version": 3
  },
  "orig_nbformat": 4
 },
 "nbformat": 4,
 "nbformat_minor": 2,
 "cells": [
  {
   "source": [
    "# Simple Malay Grammar\n",
    "\n",
    "Author: Benjamin TAN\n",
    "\n",
    "I will use the techniques taught in this course to implement a grammar parser of the standardized Malay language as spoken in Singapore and Malaysia. \n"
   ],
   "cell_type": "markdown",
   "metadata": {}
  },
  {
   "source": [
    "## Problem"
   ],
   "cell_type": "markdown",
   "metadata": {}
  },
  {
   "source": [
    "## Relevant Studies"
   ],
   "cell_type": "markdown",
   "metadata": {}
  },
  {
   "source": [
    "## Claim"
   ],
   "cell_type": "markdown",
   "metadata": {}
  },
  {
   "source": [
    "## Evidence"
   ],
   "cell_type": "markdown",
   "metadata": {}
  },
  {
   "source": [
    "## Discussion"
   ],
   "cell_type": "markdown",
   "metadata": {}
  },
  {
   "source": [
    "## Bibliography"
   ],
   "cell_type": "markdown",
   "metadata": {}
  }
 ]
}